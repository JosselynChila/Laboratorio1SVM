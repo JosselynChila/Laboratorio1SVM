{
 "cells": [
  {
   "cell_type": "code",
   "execution_count": 2,
   "id": "e52e4796",
   "metadata": {},
   "outputs": [],
   "source": [
    "#https://archive.ics.uci.edu/ml/datasets/Wine"
   ]
  },
  {
   "cell_type": "code",
   "execution_count": 3,
   "id": "6d50e8dc",
   "metadata": {},
   "outputs": [
    {
     "name": "stdout",
     "output_type": "stream",
     "text": [
      " Importación de las librerias necesarias para el método \n"
     ]
    }
   ],
   "source": [
    "def librerias():\n",
    "  \"\"\" Importación de las librerias necesarias para el método \"\"\"\n",
    "\n",
    "import pandas as pd\n",
    "\n",
    "from sklearn import datasets\n",
    "from sklearn.model_selection import train_test_split\n",
    "from sklearn import svm\n",
    "from sklearn import metrics\n",
    "\n",
    "import matplotlib.pyplot as plt\n",
    "import seaborn as sns\n",
    "\n",
    "print(librerias.__doc__)"
   ]
  },
  {
   "cell_type": "code",
   "execution_count": 4,
   "id": "c3d344f2",
   "metadata": {},
   "outputs": [
    {
     "name": "stdout",
     "output_type": "stream",
     "text": [
      " Función para lectura del dataset\n",
      "\n",
      "      Parametros\n",
      "      ------------\n",
      "      df : Carga de dataset\n",
      "\n",
      "      data : Dataframe del dataset  \n",
      "   \n"
     ]
    },
    {
     "data": {
      "text/html": [
       "<div>\n",
       "<style scoped>\n",
       "    .dataframe tbody tr th:only-of-type {\n",
       "        vertical-align: middle;\n",
       "    }\n",
       "\n",
       "    .dataframe tbody tr th {\n",
       "        vertical-align: top;\n",
       "    }\n",
       "\n",
       "    .dataframe thead th {\n",
       "        text-align: right;\n",
       "    }\n",
       "</style>\n",
       "<table border=\"1\" class=\"dataframe\">\n",
       "  <thead>\n",
       "    <tr style=\"text-align: right;\">\n",
       "      <th></th>\n",
       "      <th>alcohol</th>\n",
       "      <th>malic_acid</th>\n",
       "      <th>ash</th>\n",
       "      <th>alcalinity_of_ash</th>\n",
       "      <th>magnesium</th>\n",
       "      <th>total_phenols</th>\n",
       "      <th>flavanoids</th>\n",
       "      <th>nonflavanoid_phenols</th>\n",
       "      <th>proanthocyanins</th>\n",
       "      <th>color_intensity</th>\n",
       "      <th>hue</th>\n",
       "      <th>od280/od315_of_diluted_wines</th>\n",
       "      <th>proline</th>\n",
       "    </tr>\n",
       "  </thead>\n",
       "  <tbody>\n",
       "    <tr>\n",
       "      <th>0</th>\n",
       "      <td>14.23</td>\n",
       "      <td>1.71</td>\n",
       "      <td>2.43</td>\n",
       "      <td>15.6</td>\n",
       "      <td>127.0</td>\n",
       "      <td>2.80</td>\n",
       "      <td>3.06</td>\n",
       "      <td>0.28</td>\n",
       "      <td>2.29</td>\n",
       "      <td>5.64</td>\n",
       "      <td>1.04</td>\n",
       "      <td>3.92</td>\n",
       "      <td>1065.0</td>\n",
       "    </tr>\n",
       "    <tr>\n",
       "      <th>1</th>\n",
       "      <td>13.20</td>\n",
       "      <td>1.78</td>\n",
       "      <td>2.14</td>\n",
       "      <td>11.2</td>\n",
       "      <td>100.0</td>\n",
       "      <td>2.65</td>\n",
       "      <td>2.76</td>\n",
       "      <td>0.26</td>\n",
       "      <td>1.28</td>\n",
       "      <td>4.38</td>\n",
       "      <td>1.05</td>\n",
       "      <td>3.40</td>\n",
       "      <td>1050.0</td>\n",
       "    </tr>\n",
       "    <tr>\n",
       "      <th>2</th>\n",
       "      <td>13.16</td>\n",
       "      <td>2.36</td>\n",
       "      <td>2.67</td>\n",
       "      <td>18.6</td>\n",
       "      <td>101.0</td>\n",
       "      <td>2.80</td>\n",
       "      <td>3.24</td>\n",
       "      <td>0.30</td>\n",
       "      <td>2.81</td>\n",
       "      <td>5.68</td>\n",
       "      <td>1.03</td>\n",
       "      <td>3.17</td>\n",
       "      <td>1185.0</td>\n",
       "    </tr>\n",
       "    <tr>\n",
       "      <th>3</th>\n",
       "      <td>14.37</td>\n",
       "      <td>1.95</td>\n",
       "      <td>2.50</td>\n",
       "      <td>16.8</td>\n",
       "      <td>113.0</td>\n",
       "      <td>3.85</td>\n",
       "      <td>3.49</td>\n",
       "      <td>0.24</td>\n",
       "      <td>2.18</td>\n",
       "      <td>7.80</td>\n",
       "      <td>0.86</td>\n",
       "      <td>3.45</td>\n",
       "      <td>1480.0</td>\n",
       "    </tr>\n",
       "    <tr>\n",
       "      <th>4</th>\n",
       "      <td>13.24</td>\n",
       "      <td>2.59</td>\n",
       "      <td>2.87</td>\n",
       "      <td>21.0</td>\n",
       "      <td>118.0</td>\n",
       "      <td>2.80</td>\n",
       "      <td>2.69</td>\n",
       "      <td>0.39</td>\n",
       "      <td>1.82</td>\n",
       "      <td>4.32</td>\n",
       "      <td>1.04</td>\n",
       "      <td>2.93</td>\n",
       "      <td>735.0</td>\n",
       "    </tr>\n",
       "  </tbody>\n",
       "</table>\n",
       "</div>"
      ],
      "text/plain": [
       "   alcohol  malic_acid   ash  alcalinity_of_ash  magnesium  total_phenols  \\\n",
       "0    14.23        1.71  2.43               15.6      127.0           2.80   \n",
       "1    13.20        1.78  2.14               11.2      100.0           2.65   \n",
       "2    13.16        2.36  2.67               18.6      101.0           2.80   \n",
       "3    14.37        1.95  2.50               16.8      113.0           3.85   \n",
       "4    13.24        2.59  2.87               21.0      118.0           2.80   \n",
       "\n",
       "   flavanoids  nonflavanoid_phenols  proanthocyanins  color_intensity   hue  \\\n",
       "0        3.06                  0.28             2.29             5.64  1.04   \n",
       "1        2.76                  0.26             1.28             4.38  1.05   \n",
       "2        3.24                  0.30             2.81             5.68  1.03   \n",
       "3        3.49                  0.24             2.18             7.80  0.86   \n",
       "4        2.69                  0.39             1.82             4.32  1.04   \n",
       "\n",
       "   od280/od315_of_diluted_wines  proline  \n",
       "0                          3.92   1065.0  \n",
       "1                          3.40   1050.0  \n",
       "2                          3.17   1185.0  \n",
       "3                          3.45   1480.0  \n",
       "4                          2.93    735.0  "
      ]
     },
     "execution_count": 4,
     "metadata": {},
     "output_type": "execute_result"
    }
   ],
   "source": [
    "def lecturabd():  \n",
    "  ''' Función para lectura del dataset\n",
    "\n",
    "      Parametros\n",
    "      ------------\n",
    "      df : Carga de dataset\n",
    "\n",
    "      data : Dataframe del dataset  \n",
    "   '''\n",
    "\n",
    "df = datasets.load_wine()\n",
    "\n",
    "data = pd.DataFrame(data= df['data'],\n",
    "                    columns= df['feature_names'])\n",
    "print(lecturabd.__doc__)\n",
    "data.head()"
   ]
  },
  {
   "cell_type": "code",
   "execution_count": 5,
   "id": "83f21494",
   "metadata": {},
   "outputs": [
    {
     "name": "stdout",
     "output_type": "stream",
     "text": [
      " \n",
      "      Funcion para entrenamiento del modelo\n",
      "\n",
      "      Parametros\n",
      "      -----------\n",
      "      X : Data\n",
      "      y : target\n",
      "\n",
      "      División de datos\n",
      "      -----------------\n",
      "      Entrenamienento :  70%\n",
      "      Prueba : 30%  \n",
      "      \n"
     ]
    }
   ],
   "source": [
    "def entrenamiento():    \n",
    "      ''' \n",
    "      Funcion para entrenamiento del modelo\n",
    "\n",
    "      Parametros\n",
    "      -----------\n",
    "      X : Data\n",
    "      y : target\n",
    "\n",
    "      División de datos\n",
    "      -----------------\n",
    "      Entrenamienento :  70%\n",
    "      Prueba : 30%  \n",
    "      '''\n",
    "X = df.data\n",
    "y = df.target\n",
    "X_train, X_test, y_train, y_test = train_test_split(X, y, test_size=0.3, random_state=109)\n",
    "print(entrenamiento.__doc__)"
   ]
  },
  {
   "cell_type": "code",
   "execution_count": 6,
   "id": "a4712dae",
   "metadata": {},
   "outputs": [
    {
     "name": "stdout",
     "output_type": "stream",
     "text": [
      " \n",
      "    Funcion instanciar, entrenar y predecir\n",
      "\n",
      "    Parametros\n",
      "    clf : Clasificador\n",
      "    X_test : Datos de prueba\n",
      "    -----------------------\n",
      "    kernel = lineal\n",
      "    Entrenamiento del modelo función fit\n",
      "\n",
      "    --------------------------------\n",
      "\n",
      "    Predicción del objetivo X_test\n",
      "    \n"
     ]
    }
   ],
   "source": [
    "def clasificador():    \n",
    "    ''' \n",
    "    Funcion instanciar, entrenar y predecir\n",
    "\n",
    "    Parametros\n",
    "    clf : Clasificador\n",
    "    X_test : Datos de prueba\n",
    "    -----------------------\n",
    "    kernel = lineal\n",
    "    Entrenamiento del modelo función fit\n",
    "\n",
    "    --------------------------------\n",
    "\n",
    "    Predicción del objetivo X_test\n",
    "    '''\n",
    "\n",
    "clf = svm.SVC(kernel='linear')\n",
    "\n",
    "clf.fit(X_train, y_train)\n",
    "\n",
    "y_pred = clf.predict(X_test)\n",
    "print( clasificador.__doc__)"
   ]
  },
  {
   "cell_type": "code",
   "execution_count": 7,
   "id": "fd96bd58",
   "metadata": {},
   "outputs": [
    {
     "name": "stdout",
     "output_type": "stream",
     "text": [
      " \n",
      "    Función de metricas\n",
      "    ----------------------\n",
      "    Acurracy: Exactitud\n",
      "    Precision : Precisión\n",
      "    Recall : Sensibilidad\n",
      "    ----------------------\n",
      "    \n",
      "Accuracy: 0.9259259259259259\n",
      "Precision: 0.9361111111111112\n",
      "Recall: 0.9298245614035089\n",
      "Matriz de Confusion:\n",
      "\n",
      "[[21  0  0]\n",
      " [ 3 15  1]\n",
      " [ 0  0 14]]\n"
     ]
    }
   ],
   "source": [
    "def metrica():\n",
    "    ''' \n",
    "    Función de metricas\n",
    "    ----------------------\n",
    "    Acurracy: Exactitud\n",
    "    Precision : Precisión\n",
    "    Recall : Sensibilidad\n",
    "    ----------------------\n",
    "    '''\n",
    "print(metrica.__doc__)\n",
    "print(\"Accuracy:\", metrics.accuracy_score(y_test, y_pred))\n",
    "print(\"Precision:\", metrics.precision_score(y_test, y_pred, average='macro'))\n",
    "print(\"Recall:\", metrics.recall_score(y_test, y_pred, average='macro'))\n",
    "print(\"Matriz de Confusion:\\n\")\n",
    "cnf_matrix = metrics.confusion_matrix(y_test, y_pred)\n",
    "print(cnf_matrix)"
   ]
  },
  {
   "cell_type": "code",
   "execution_count": 8,
   "id": "f3e90cbc",
   "metadata": {},
   "outputs": [
    {
     "name": "stdout",
     "output_type": "stream",
     "text": [
      "  \n",
      "  Dibujor la matriz de confusión \n",
      "  \n",
      "  \n"
     ]
    },
    {
     "data": {
      "image/png": "[encoded data removed]",
      "text/plain": [
       "<Figure size 432x288 with 2 Axes>"
      ]
     },
     "metadata": {},
     "output_type": "display_data"
    }
   ],
   "source": [
    "def dibujo():\n",
    "  '''  \n",
    "  Dibujor la matriz de confusión \n",
    "  \n",
    "  '''\n",
    "sns.set()\n",
    "f, ax=plt.subplots()\n",
    "sns.heatmap(cnf_matrix, annot=True, ax=ax)\n",
    "ax.set_title('MATRIZ DE CONFUSION'), plt.tight_layout()\n",
    "ax.set_xlabel('PREDICCIÓN')\n",
    "ax.set_ylabel('ACTUAL')\n",
    "print(dibujo.__doc__)"
   ]
  },
  {
   "cell_type": "code",
   "execution_count": null,
   "id": "79fcbb7a",
   "metadata": {},
   "outputs": [],
   "source": []
  }
 ],
 "metadata": {
  "kernelspec": {
   "display_name": "Python 3 (ipykernel)",
   "language": "python",
   "name": "python3"
  },
  "language_info": {
   "codemirror_mode": {
    "name": "ipython",
    "version": 3
   },
   "file_extension": ".py",
   "mimetype": "text/x-python",
   "name": "python",
   "nbconvert_exporter": "python",
   "pygments_lexer": "ipython3",
   "version": "3.9.12"
  }
 },
 "nbformat": 4,
 "nbformat_minor": 5
}
